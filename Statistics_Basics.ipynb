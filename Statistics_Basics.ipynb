{
  "nbformat": 4,
  "nbformat_minor": 0,
  "metadata": {
    "colab": {
      "provenance": []
    },
    "kernelspec": {
      "name": "python3",
      "display_name": "Python 3"
    },
    "language_info": {
      "name": "python"
    }
  },
  "cells": [
    {
      "cell_type": "markdown",
      "source": [
        "##Statistics Basics##"
      ],
      "metadata": {
        "id": "DvVgrY4pmAH7"
      }
    },
    {
      "cell_type": "markdown",
      "source": [
        "**Q1. Explain the different types of data (qualitative and quantitative) and provide examples of each. Discuss nominal, ordinal, interval, and ratio scales.**\n",
        "\n",
        "**Sol.** **Qualitative Data :**\n",
        "\n",
        "Qualitative data describes characteristics or qualities that cannot be measured numerically. This type of data is often categorical and can be further divided into two subtypes:\n",
        "1. Nominal Data\n",
        "2. Ordinal Data\n",
        "\n",
        "**Nominal Data:** This type represents categories without any inherent order.\n",
        "**eg:**\n",
        "\n",
        "1.Gender: male, female\n",
        "\n",
        "2.Types of fruits : apple, banana, orange.\n",
        "\n",
        "3.Colors: red, blue, green.\n",
        "\n",
        "**Ordinal Data:** This type represents categories that have a clear order or ranking but do not have a consistent scale of measurement.\n",
        "**Eg:**\n",
        "\n",
        "1. Satisfaction ratings (very satisfied, satisfied, neutral, dissatisfied, very dissatisfied)\n",
        "2. Education levels (high school, bachelor's, master's, PhD)\n",
        "3. Rankings in a competition (1st place, 2nd place, etc.)\n",
        "\n",
        "**Quantitative Data**\n",
        "\n",
        "Quantitative data involves numerical values that can be measured and analyzed statistically. It can also be divided into two subtypes:\n",
        "1. Discrete data\n",
        "2. Contunious data\n",
        "**Discrete data** consists of distinct, separate values that can be counted. These values are typically whole numbers and represent items that cannot be subdivided meaningfully. Eg:\n",
        "\n",
        "1. Number of students in a classroom\n",
        "\n",
        "2. Number of cars in a parking lot\n",
        "\n",
        "3. Votes received in an election\n",
        "\n",
        "Discrete data often arises in situations where we are counting items or occurrences.\n",
        "\n",
        "**Continuous data** can take on any value within a given range and can be measured with great precision. This type of data can include fractions and decimals. Eg:\n",
        "\n",
        "1. Height of individuals (e.g., 170.5 cm)\n",
        "2. Weight (e.g., 65.3 kg)\n",
        "3. Temperature (e.g., 22.8°C)\n",
        "\n",
        "Continuous data is typically measured rather than counted and can represent any value within a specified interval."
      ],
      "metadata": {
        "id": "pJ0Uh2Uql17k"
      }
    },
    {
      "cell_type": "markdown",
      "source": [
        "**Q2. What are the measures of central tendency, and when should you use each? Discuss the mean, median and mode with examples and situations where each is appropriate.**\n",
        "\n",
        "**Sol.**Measures of central tendency are statistical values that represent the center or typical value of a dataset. The three most common measures are the mean, median, and mode.\n",
        "\n",
        "1. **Mean:** Mean is the average value of the data set given."
      ],
      "metadata": {
        "id": "CkRW3CThp_5j"
      }
    },
    {
      "cell_type": "markdown",
      "source": [
        "![image.png](data:image/png;base64,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)"
      ],
      "metadata": {
        "id": "TZL017WirwiK"
      }
    },
    {
      "cell_type": "markdown",
      "source": [
        "**Use case :**\n",
        "\n",
        "The mean is best used with continuous data and when the data distribution is symmetrical and not heavily skewed. It is sensitive to extreme values (outliers), which can significantly affect the result.\n",
        "\n"
      ],
      "metadata": {
        "id": "DpD_SHAUr2vU"
      }
    },
    {
      "cell_type": "code",
      "source": [
        "#Mean Code\n",
        "\n",
        "import numpy as np\n",
        "\n",
        "values=np.random.randint(1,80,20)\n",
        "print(values)\n",
        "print(\"Mean : \",np.mean(values))\n",
        "\n",
        "\n",
        "print(\"Mean is affected by outlier\")\n",
        "values=np.append(values,[10000])\n",
        "print(values)\n",
        "print(\"New Mean : \",np.mean(values))"
      ],
      "metadata": {
        "colab": {
          "base_uri": "https://localhost:8080/"
        },
        "id": "tMwi_y9zsSjz",
        "outputId": "ae35c294-9ccd-4893-d028-49995c0dadaa"
      },
      "execution_count": null,
      "outputs": [
        {
          "output_type": "stream",
          "name": "stdout",
          "text": [
            "[ 5 38 34 43 39 75 33 19  6  5 20 32 66 27 71 14 68 69  5 69]\n",
            "Mean :  36.9\n",
            "Mean is affected by outlier\n",
            "[    5    38    34    43    39    75    33    19     6     5    20    32\n",
            "    66    27    71    14    68    69     5    69 10000]\n",
            "New Mean :  511.3333333333333\n"
          ]
        }
      ]
    },
    {
      "cell_type": "markdown",
      "source": [
        "2.**Median:** The median is the middle value of a dataset when the values are arranged in ascending or descending order. If there is an even number of observations, the median is the average of the two middle numbers.\n",
        "\n",
        "**Use case :**\n",
        "\n",
        "The median is particularly useful when dealing with **skewed data** or **when there are outliers**, as it is not affected by extreme values. It provides a better representation of the central location in such cases."
      ],
      "metadata": {
        "id": "2Cpfcxaftl_G"
      }
    },
    {
      "cell_type": "code",
      "source": [
        "#Median Code\n",
        "\n",
        "#1. When n is even\n",
        "import numpy as np\n",
        "n=20\n",
        "values=np.random.randint(1,80,n)\n",
        "print(values)\n",
        "print(\"Median : \",np.median(values))\n",
        "\n",
        "print(\"Meadian is not affected by outlier\")\n",
        "values[n-1]=10000\n",
        "print(values)\n",
        "print(\"New Median : \",np.median(values))\n",
        "\n",
        "print()\n",
        "\n",
        "#2. When n is odd\n",
        "n=21\n",
        "values=np.random.randint(1,80,n)\n",
        "print(values)\n",
        "print(\"Median : \",np.median(values))\n",
        "\n",
        "print(\"Meadian is not affected by outlier\")\n",
        "values[n-1]=10000\n",
        "print(values)\n",
        "print(\"New Median : \",np.median(values))"
      ],
      "metadata": {
        "colab": {
          "base_uri": "https://localhost:8080/"
        },
        "id": "V7W-NaCUuiCl",
        "outputId": "88e03414-8038-4b50-9516-331c8585415c"
      },
      "execution_count": null,
      "outputs": [
        {
          "output_type": "stream",
          "name": "stdout",
          "text": [
            "[75 11 26 21 26  2 46 27 10 79  9  1 73 32  6 77 27 14 33 26]\n",
            "Median :  26.0\n",
            "Meadian is not affected by outlier\n",
            "[   75    11    26    21    26     2    46    27    10    79     9     1\n",
            "    73    32     6    77    27    14    33 10000]\n",
            "New Median :  26.5\n",
            "[67 47 65 17 35  4 45 48 12 57 65  4 23 38 61 10 42 36 74 19 68]\n",
            "Median :  42.0\n",
            "Meadian is not affected by outlier\n",
            "[   67    47    65    17    35     4    45    48    12    57    65     4\n",
            "    23    38    61    10    42    36    74    19 10000]\n",
            "New Median :  42.0\n"
          ]
        }
      ]
    },
    {
      "cell_type": "markdown",
      "source": [
        "3.**Mode:**\n",
        "\n",
        "The mode is the value that appears most frequently in a dataset. A dataset can have one mode (unimodal), more than one mode (multimodal), or no mode at all if all values occur with the same frequency.\n",
        "\n",
        "**Use Case:**\n",
        "The mode is useful for categorical data where you want to know the most common category. For instance, in analyzing survey responses about favorite fruits, the mode can indicate which fruit is the most popular among respondents."
      ],
      "metadata": {
        "id": "ZJv8V8b46EyR"
      }
    },
    {
      "cell_type": "code",
      "source": [
        "#Mode Code\n",
        "\n",
        "import numpy as np\n",
        "import statistics as st\n",
        "\n",
        "values=np.random.randint(1,80,20)\n",
        "print(values)\n",
        "print(\"Mode : \",st.mode(values))"
      ],
      "metadata": {
        "colab": {
          "base_uri": "https://localhost:8080/"
        },
        "id": "jR_WKFKG62yM",
        "outputId": "d117bf6f-a262-4371-9878-b84d36535ca1"
      },
      "execution_count": null,
      "outputs": [
        {
          "output_type": "stream",
          "name": "stdout",
          "text": [
            "[65 77 24 62 11 31 50 65 41 23 48 78 55 48 61 12 19  1 58 17]\n",
            "Mode :  65\n"
          ]
        }
      ]
    },
    {
      "cell_type": "markdown",
      "source": [
        "**Q3. Explain the concept of dispersion. How do variance and standard deviation measure the spread of data?**\n",
        "\n",
        "**Sol.** Dispersion refers to the extent to which data values spread out or vary from a central value, such as the mean. It gives insight into the variability within a dataset, helping to understand how much individual data points differ from the average.\n",
        "\n",
        "**Variance**\n",
        "\n",
        "Variance quantifies the degree of dispersion by calculating the average of the squared differences from the mean.\n"
      ],
      "metadata": {
        "id": "pzcLEXmV15As"
      }
    },
    {
      "cell_type": "markdown",
      "source": [
        "![image.png](data:image/png;base64,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)"
      ],
      "metadata": {
        "id": "xuwsYmJT5OWO"
      }
    },
    {
      "cell_type": "markdown",
      "source": [
        "**Standard Deviation**\n",
        "\n",
        "Standard deviation is simply the square root of variance. It provides a measure of spread in the same units as the original data, making it more interpretable."
      ],
      "metadata": {
        "id": "mQ3wR9kA5UK_"
      }
    },
    {
      "cell_type": "markdown",
      "source": [
        "![image.png](data:image/png;base64,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)"
      ],
      "metadata": {
        "id": "h452fnc1560Z"
      }
    },
    {
      "cell_type": "code",
      "source": [
        "#Stddev and Variance code\n",
        "import numpy as np\n",
        "import statistics as st\n",
        "\n",
        "data=np.random.randint(1,100,15)\n",
        "print(data)\n",
        "print(\"Variance : \",st.variance(data))\n",
        "print(\"Standard Deviation: \",st.stdev(data))"
      ],
      "metadata": {
        "colab": {
          "base_uri": "https://localhost:8080/"
        },
        "id": "Last2fe45-2T",
        "outputId": "c1078549-fd34-483c-fbc0-601e6a29c519"
      },
      "execution_count": null,
      "outputs": [
        {
          "output_type": "stream",
          "name": "stdout",
          "text": [
            "[72 70 75 82 38 47 77 45 49 89 82 11 43 47 31]\n",
            "Variance :  510\n",
            "Standard Deviation:  22.58317958127243\n"
          ]
        }
      ]
    },
    {
      "cell_type": "markdown",
      "source": [
        "**Q4.  What is a box plot, and what can it tell you about the distribution of data?**\n",
        "\n",
        "**Sol.**A box plot, also known as a whisker plot, is a graphical representation of a dataset that summarizes its distribution through five key summary statistics: the minimum, first quartile (Q1), median (Q2), third quartile (Q3), and maximum. It provides a visual snapshot of the data's central tendency, variability, and potential outliers.\n",
        "\n",
        "**Key points from box plots:**\n",
        "1. **Central Tendency:** The position of the median line within the box provides a quick visual indication of the dataset's central value.\n",
        "2. **Spread of Data:** The length of the box (IQR) indicates the variability of the middle 50% of the data. A longer box signifies greater variability, while a shorter box indicates less variability.\n",
        "3. **Skewness:** If the median is closer to one quartile than the other, it suggests skewness.\n",
        "**For example:**\n",
        "\n",
        "* If the median is closer to Q1, the distribution may be right-skewed (longer tail on the right).\n",
        "* If the median is closer to Q3, the distribution may be left-skewed (longer tail on the left).\n",
        "4. **Presence of Outliers:** Outliers can be easily identified as individual points outside the whiskers, helping to assess the presence of extreme values that may affect analysis."
      ],
      "metadata": {
        "id": "hzExMjSG79P8"
      }
    },
    {
      "cell_type": "code",
      "source": [
        "#box plot\n",
        "\n",
        "import numpy as np\n",
        "import seaborn as sns\n",
        "\n",
        "data=np.random.randint(-100,100,1000)\n",
        "sns.boxplot(data)"
      ],
      "metadata": {
        "colab": {
          "base_uri": "https://localhost:8080/",
          "height": 428
        },
        "id": "obNM8zGU9yna",
        "outputId": "3280734c-849d-4e14-971d-2b0eb23b1814"
      },
      "execution_count": null,
      "outputs": [
        {
          "output_type": "execute_result",
          "data": {
            "text/plain": [
              "<Axes: >"
            ]
          },
          "metadata": {},
          "execution_count": 13
        },
        {
          "output_type": "display_data",
          "data": {
            "text/plain": [
              "<Figure size 640x480 with 1 Axes>"
            ],
            "image/png": "[encoded data removed]"
          },
          "metadata": {}
        }
      ]
    },
    {
      "cell_type": "markdown",
      "source": [
        "**Q5.Discuss the role of random sampling in making inferences about populations.**\n",
        "\n",
        "**Sol.**Random sampling is a fundamental technique in statistics that involves selecting a subset of individuals from a larger population in such a way that each individual has an equal chance of being chosen.\n",
        "\n",
        "1. **Reduces bias:**\n",
        "Random sampling gives every individual in the population an equal chance of being selected, which reduces the risk of bias in the sample selection process.\n",
        "2. **Improves accuracy:**\n",
        "Random sampling helps ensure that the results are accurate and reliable.\n",
        "3. **Saves time and money:**\n",
        "Random sampling allows researchers to select a smaller subset of individuals or items, which can reduce the cost and time required for data collection.\n",
        "4. **Basis for statistical inference:**\n",
        "Random sampling provides a basis for statistical inference and hypothesis testing."
      ],
      "metadata": {
        "id": "BAHTRtbJ9W9E"
      }
    },
    {
      "cell_type": "markdown",
      "source": [
        "**Q6.  Explain the concept of skewness and its types. How does skewness affect the interpretation of data?**\n",
        "\n",
        "**Sol.**Skewness is a statistical measure that describes the asymmetry of a distribution. It indicates how much a distribution deviates from a normal distribution, which is symmetric. Understanding skewness is important because it affects the interpretation of data, particularly in terms of central tendency and variability.\n",
        "\n",
        "**Types of Skewness:**\n",
        "1. **Positive Skewness (Right Skewness):**\n",
        "\n",
        "* In a positively skewed distribution, the tail on the right side is longer or fatter than the left side.\n",
        "* Most data points are concentrated on the left side of the distribution, with fewer higher values on the right.\n",
        "* The mean is typically greater than the median in this case.\n",
        "\n",
        "2. **Negative Skewness (Left Skewness):**\n",
        "\n",
        "* In a negatively skewed distribution, the tail on the left side is longer or fatter than the right side.\n",
        "* Most data points are concentrated on the right side of the distribution, with fewer lower values on the left.\n",
        "* The mean is typically less than the median in this case.\n",
        "\n",
        "3. **Zero Skewness (Symmetric Distribution):**\n",
        "\n",
        "* A distribution is considered symmetric when it has no skewness, meaning the left and right sides are mirror images.\n",
        "* The mean, median, and mode are all equal.\n",
        "\n",
        "**Impact of Skewness on Data Interpretation:**\n",
        "\n",
        "1. **Central Tendency:**\n",
        "\n",
        "  Skewness affects the relationship between the mean, median, and mode. In skewed distributions, relying solely on the mean can be misleading, as it may not accurately represent the \"typical\" value.\n",
        "For positive skewness, the median is often a better measure of central tendency. Conversely, for negative skewness, the median is again preferable.\n",
        "2. **Statistical Analyses:**\n",
        "\n",
        "  Many statistical tests assume normality. Skewed data can violate these assumptions, leading to inaccurate results. Transformations (e.g., log, square root) might be necessary to normalize the data before analysis.\n",
        "3. **Data Visualization:**\n",
        "\n",
        "  When visualizing skewed data, using histograms or box plots can help identify the skewness and provide context for interpreting summary statistics. Recognizing the skewness in data can guide the selection of appropriate statistical methods.\n",
        "4. **Decision-Making:**\n",
        "\n",
        "  In practical applications, such as finance or quality control, understanding the skewness of data can inform risk assessments and strategy development. For example, a positively skewed distribution in sales data may indicate potential for significant outlier sales, impacting forecasting.\n"
      ],
      "metadata": {
        "id": "4YU200Rm_nSp"
      }
    },
    {
      "cell_type": "markdown",
      "source": [
        "**Q7.What is the interquartile range (IQR), and how is it used to detect outliers?**\n",
        "\n",
        "**Sol** The interquartile range (IQR) is a measure of statistical dispersion that describes the range within which the middle 50% of a dataset lies. It is calculated as the difference between the third quartile (Q3) and the first quartile (Q1):\n",
        "\n",
        "IQR= Q3-Q1\n",
        "\n",
        "\n",
        "**Detecting Outliers with the IQR:**\n",
        "\n",
        "* lower boundary = Q1-1.5*IQR\n",
        "* upper boundary = Q3+1.5*IQR\n",
        "where IQR = Q3-Q1"
      ],
      "metadata": {
        "id": "Qp2Yn7CqD7Il"
      }
    },
    {
      "cell_type": "code",
      "source": [
        "#Detecting Outlier\n",
        "\n",
        "import numpy as np\n",
        "\n",
        "data=np.random.randint(10,100,10)\n",
        "print(data)\n",
        "\n",
        "q0=min(data)\n",
        "q1=np.percentile(data,25)\n",
        "q2=np.percentile(data,50)\n",
        "q3=np.percentile(data,75)\n",
        "q4=max(data)\n",
        "print(\n",
        "    f\"\"\"\n",
        "       Q0={q0}\n",
        "       Q1={q1}\n",
        "       Q2={q2}\n",
        "       Q3={q3}\n",
        "       Q4={q4}\n",
        "    \"\"\"\n",
        ")\n",
        "iqr=q3-q1\n",
        "print(\"IQR : \",iqr)\n",
        "\n",
        "lb=q1-(1.5*iqr)\n",
        "ub=q3+(1.5*iqr)\n",
        "print(\"Lower Boundary:\",lb)\n",
        "print(\"Upper Boundary:\",ub)\n"
      ],
      "metadata": {
        "colab": {
          "base_uri": "https://localhost:8080/"
        },
        "id": "PjzKEYLUICpy",
        "outputId": "9a4c3b1d-4721-4338-dec4-f59318ef022d"
      },
      "execution_count": null,
      "outputs": [
        {
          "output_type": "stream",
          "name": "stdout",
          "text": [
            "[10 26 24 49 72 46 44 74 97 20]\n",
            "\n",
            "       Q0=10\n",
            "       Q1=24.5\n",
            "       Q2=45.0\n",
            "       Q3=66.25\n",
            "       Q4=97\n",
            "    \n",
            "IQR :  41.75\n",
            "Lower Boundary: -38.125\n",
            "Upper Boundary: 128.875\n"
          ]
        }
      ]
    },
    {
      "cell_type": "markdown",
      "source": [
        "*Thus any number below Lower Boundary and above Upper Boundary are considered outliers.*"
      ],
      "metadata": {
        "id": "8B57fuFvJ8hR"
      }
    },
    {
      "cell_type": "markdown",
      "source": [
        "**Q8.  Discuss the conditions under which the binomial distribution is used.**\n",
        "**Sol.**\n",
        "\n",
        "The binomial distribution is a discrete probability distribution that models the number of successes in a fixed number of independent Bernoulli trials, each with the same probability of success. Here are the key conditions under which the binomial distribution is appropriately used:\n",
        "\n",
        "1. **Fixed Number of Trials (n):**\n",
        "The experiment must consist of a fixed number of trials, denoted as n. This number should be predetermined and constant throughout the experiment. For example, flipping a coin 10 times is a scenario where\n",
        "𝑛=10\n",
        "\n",
        "2. **Two Possible Outcomes:**\n",
        "Each trial must have only two possible outcomes, commonly referred to as \"success\" and \"failure.\" The specific labels can vary based on the context, such as \"pass/fail,\" \"yes/no,\" or \"success/failure.\" For instance, in a quality control scenario, a product may be either defective (failure) or non-defective (success).\n",
        "\n",
        "3. **Constant Probability of Success (p):**\n",
        "The probability of success, denoted as p, must remain constant for each trial. This means that the likelihood of achieving a success does not change from trial to trial. For instance, if you are rolling a die and counting how many times a \"3\" appears in 12 rolls, the probability of rolling a \"3\"  (which is 1/6) remains constant across all rolls.\n",
        "4. **Independent Trials:**\n",
        "The trials must be independent, meaning that the outcome of one trial does not affect the outcome of another. For example, the result of one coin flip does not influence the result of another flip; they are independent events.\n",
        "\n",
        "5. **Identical Distribution:**\n",
        "Each trial should be drawn from the same probability distribution, which is the Bernoulli distribution in this case. This implies that all trials are conducted under identical conditions.\n",
        "\n",
        "**Example of Binomial Distribution**\n",
        "\n",
        "\n",
        "Consider a scenario where a factory produces light bulbs, and you want to determine the probability of finding a certain number of defective bulbs out of a sample of 20. If the probability of a bulb being defective is p=0.1;\n",
        "\n",
        "* **Fixed trials:** You test 20 bulbs (n = 20).\n",
        "* **Two outcomes:** A bulb is either defective (success) or not defective (failure).\n",
        "* **Constant probability:** The probability of each bulb being defective remains at 10% for every trial.\n",
        "* **Independence:** The quality of one bulb does not affect another."
      ],
      "metadata": {
        "id": "TaImOCD2L5VA"
      }
    },
    {
      "cell_type": "markdown",
      "source": [
        "**Q9. Explain the properties of the normal distribution and the empirical rule (68-95-99.7 rule)**\n",
        "\n",
        "**Sol:** NORMAL DISTRIBUTION: The normal distribution, often referred to as the Gaussian distribution, is a continuous probability distribution that is symmetric and bell-shaped.\n",
        "\n",
        "**Properties of the Normal Distribution**\n",
        "\n",
        "1. **Symmetry:** The normal distribution is perfectly symmetrical around its mean. This means that the left half of the distribution is a mirror image of the right half.\n",
        "\n",
        "2. **Bell-Shaped Curve:** The shape of the distribution is bell-shaped, with the highest point at the mean. As you move away from the mean, the probability density decreases symmetrically.\n",
        "\n",
        "3. **Mean, Median, and Mode:** In a normal distribution, the mean, median, and mode are all equal and located at the center of the distribution.\n",
        "\n",
        "4. **Defined by Two Parameters:** The normal distribution is completely defined by two parameters: the mean (𝜇) and the standard deviation (𝜎). The mean determines the location of the center, while the standard deviation determines the width of the curve.\n",
        "\n",
        "5. **Asymptotic:**The tails of the normal distribution extend indefinitely and approach, but never touch, the horizontal axis. This implies that while extreme values are possible, they are very rare.\n",
        "\n",
        "6. **Total Area Under the Curve:** The total area under the normal distribution curve is equal to 1, representing the total probability of all possible outcomes.\n",
        "\n",
        "\n",
        "**The Empirical Rule (68-95-99.7 Rule)**\n",
        "\n",
        "The empirical rule provides a quick way to understand the distribution of data within a normal distribution. It states that:\n",
        "1. **68% of the Data:** Approximately 68% of the data points fall within one standard deviation (μ±σ) of the mean. This means that if you take any normally distributed dataset, about two-thirds of the values will lie within this range.\n",
        "\n",
        "2. **95% of the Data:**Approximately 95% of the data points fall within two standard deviations (μ±2σ) of the mean. This indicates that nearly all the data can be found within this broader range.\n",
        "\n",
        "3. **99.7% of the Data:**Approximately 99.7% of the data points fall within three standard deviations (μ±3σ) of the mean. This accounts for almost all possible outcomes in a normal distribution.\n",
        "\n",
        "**Properties of the Empirical Rule**\n",
        "\n",
        "1. The center of the curve is the mean (μ).\n",
        "2. The area within one standard deviation (from μ−σ to μ+σ) covers about 68% of the data.\n",
        "3. The area within two standard deviations (from μ−2σ to μ+2σ) covers about 95% of the data.\n",
        "4. The area within three standard deviations (from μ−3σ to μ+3σ) covers about 99.7% of the data."
      ],
      "metadata": {
        "id": "a57NhYsoCsB2"
      }
    },
    {
      "cell_type": "markdown",
      "source": [
        "**Q10. Provide a real-life example of a Poisson process and calculate the probability for a specific event.**\n",
        "\n",
        "**Sol.** Assume that a specific intersection experiences, on average, 4 traffic accidents per month.\n",
        "\n",
        "**Parameters**\n",
        "* Rate (n) = 4 accidents/month\n",
        "* Time interval = 1 month\n",
        "\n",
        "**Poisson Probability Formula**\n",
        "\n",
        "To calculate the probability of observing exactly 𝑘 accidents in that month, we can use the Poisson probability formula:\n",
        "\n",
        "P(X=k)= {n^(k) e^(-n)}/ k!\n",
        "\n",
        "\n",
        "Let's calculate the probability of exactly 2 accidents occurring in that month."
      ],
      "metadata": {
        "id": "5Awi_pziDcae"
      }
    },
    {
      "cell_type": "code",
      "source": [
        "import numpy as np\n",
        "from scipy.stats import poisson\n",
        "import statistics as sts\n",
        "\n",
        "n= 4\n",
        "\n",
        "# The probability of no accidents\n",
        "k0 = 0\n",
        "p0 = poisson.pmf(k0,n)\n",
        "\n",
        "# The probability of exactly 2 accidents\n",
        "k2 = 2\n",
        "p2 = poisson.pmf(k2, n)\n",
        "\n",
        "# The probability of more than 3 accidents\n",
        "k3 = 3\n",
        "p3 = 1 - poisson.pmf(k3, n)\n",
        "\n",
        "print(f\"Probability of no accidents: {p0:.4f}\")\n",
        "print(f\"Probability of exactly 2 accidents: {p2:.4f}\")\n",
        "print(f\"Probability of more than 3 accidents: {p3:.4f}\")\n"
      ],
      "metadata": {
        "colab": {
          "base_uri": "https://localhost:8080/"
        },
        "id": "k_LgV69LRBEk",
        "outputId": "fe5163cc-2e55-4bfd-9e17-3a69b7a5f97e"
      },
      "execution_count": 6,
      "outputs": [
        {
          "output_type": "stream",
          "name": "stdout",
          "text": [
            "Probability of no accidents: 0.0183\n",
            "Probability of exactly 2 accidents: 0.1465\n",
            "Probability of more than 3 accidents: 0.8046\n"
          ]
        }
      ]
    },
    {
      "cell_type": "markdown",
      "source": [
        "*Thus, the probability of exactly 2 traffic accidents occurring at the intersection in a month is approximately 0.1465, or 14.65%.*"
      ],
      "metadata": {
        "id": "lB72v8BnUrpy"
      }
    },
    {
      "cell_type": "markdown",
      "source": [
        "**Q11. Explain what a random variable is and differentiate between discrete and continuous random variables.**\n",
        "\n",
        "**Sol.**A random variable is a numerical quantity that is determined by the outcome of a random experiment.\n",
        "\n",
        "Random variables can be classified into two main types: discrete random variables and continuous random variables.\n",
        "1. Discrete random variables.\n",
        "2. Continuous random variables.\n",
        "\n",
        "**Discrete random variables:**  A discrete random variable takes on a countable number of distinct values. These values can often be listed out or counted. **Eg:** The outcome of rolling a die\n",
        "\n",
        "**Characterstics**\n",
        "* The possible values are usually integers or whole numbers.\n",
        "* Each value has a specific probability associated with it, and the sum of these probabilities is equal to 1.\n",
        "\n",
        "**Continuous Random Variables:** A  continuous random variable can take on an infinite number of values within a given range. These values are uncountable and can be any number in a certain interval.**Eg** The height of individuals , The temperature on a given day.\n",
        "\n",
        "**Characterstics**\n",
        "* The values are often real numbers and can include fractions and decimals.\n",
        "* Probabilities for specific values are not defined; instead, probabilities are calculated over intervals.\n"
      ],
      "metadata": {
        "id": "MWPBi07zGauN"
      }
    },
    {
      "cell_type": "markdown",
      "source": [
        "![image.png](data:image/png;base64,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)"
      ],
      "metadata": {
        "id": "D0rd16sAIhUl"
      }
    },
    {
      "cell_type": "markdown",
      "source": [
        "**Q12.  Provide an example dataset, calculate both covariance and correlation, and interpret the results**\n",
        "\n",
        "**Sol.** Covarince is calculated by the formula:"
      ],
      "metadata": {
        "id": "RHHh-3q1IiNf"
      }
    },
    {
      "cell_type": "markdown",
      "source": [
        "![image.png](data:image/png;base64,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)\n",
        "\n",
        "![image.png](data:image/png;base64,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)"
      ],
      "metadata": {
        "id": "O3rUmDCsJWCn"
      }
    },
    {
      "cell_type": "code",
      "source": [
        "import numpy as np\n",
        "import statistics as st\n",
        "\n",
        "x=np.random.randint(1,20,10)\n",
        "print(f\"X :{x}\")\n",
        "\n",
        "y=np.random.randint(1,20,10)\n",
        "print(f\"Y :{y}\")\n",
        "\n",
        "cov=st.covariance(x,y)\n",
        "cor=st.correlation(x,y)\n",
        "\n",
        "print(\"Covariance:\",cov)\n",
        "print(\"Correlation:\",cor)\n"
      ],
      "metadata": {
        "colab": {
          "base_uri": "https://localhost:8080/"
        },
        "id": "EM3OkNpwI9K9",
        "outputId": "f5dbb7ca-cd9a-4fb1-91d7-4abd8d48e9bb"
      },
      "execution_count": null,
      "outputs": [
        {
          "output_type": "stream",
          "name": "stdout",
          "text": [
            "X :[13 18 18 14  4 18  7  3  5  6]\n",
            "Y :[ 4  7  7 14  1  5  4  1  1  4]\n",
            "Covariance: 16.133333333333333\n",
            "Correlation: 0.6583924378958548\n"
          ]
        }
      ]
    },
    {
      "cell_type": "markdown",
      "source": [
        "**Covariance:** The covariance of 16.133 indicates a positive relationship between X and Y. Since the value is positive, it suggests that as X increases, Y tends to increase as well.\n",
        "\n",
        "**Correlation:** The correlation coefficient 𝑟 ≈ 0.66 this indicates that there might be a different relationship or dataset involved."
      ],
      "metadata": {
        "id": "MplfHucPKU6A"
      }
    }
  ]
}